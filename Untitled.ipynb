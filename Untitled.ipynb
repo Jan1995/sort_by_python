{
 "cells": [
  {
   "cell_type": "code",
   "execution_count": 8,
   "metadata": {},
   "outputs": [
    {
     "name": "stdout",
     "output_type": "stream",
     "text": [
      "[0, 1, 3, 5, 6, 8, 9]\n"
     ]
    }
   ],
   "source": [
    "# 归并排序算法 ，小詹个人公众号有相关介绍 ，详情请于 README.md 中查看\n",
    "# 归并排序为非原地但稳定算法：\n",
    "# 归并排序的最好情况、最坏情况，还是平均情况，时间复杂度都是 O(nlogn)\n",
    "#递归思路\n",
    "# 作者 ：小詹，个人公众号——小詹学python\n",
    "\n",
    "def Merge(left, right):\n",
    "    i, j = 0, 0\n",
    "    result = []\n",
    "    while i < len(left) and j < len(right):\n",
    "        if left[i] <= right[j]:\n",
    "            result.append(left[i])\n",
    "            i += 1\n",
    "        else:\n",
    "            result.append(right[j])\n",
    "            j += 1\n",
    "    result += left[i:]\n",
    "    result += right[j:]\n",
    "    return result\n",
    "\n",
    "def Merge_Sort(lists):\n",
    "    \"\"\" 归并排序算法利用递归\n",
    "        递推公式：\n",
    "        Merge_Sort(p…r) = Merge(Merge_Sort(p…q), Merge_Sort(q+1…r))\n",
    "\n",
    "        终止条件：\n",
    "        p >= r 不用再继续分解\n",
    "    \"\"\"\n",
    "    if len(lists) <= 1:\n",
    "        return lists\n",
    "    \n",
    "    num = len(lists) // 2    \n",
    "    \n",
    "    left = Merge_Sort(lists[:num])\n",
    "    right = Merge_Sort(lists[num:])\n",
    "    \n",
    "    return Merge(left, right)\n",
    "\n",
    "def main():\n",
    "    \"\"\"随便假设一个列表用于测试\"\"\"\n",
    "    list_test = [5, 1, 8, 9, 0, 6, 3]\n",
    "    \n",
    "    list_test = Merge_Sort(list_test)\n",
    "    \n",
    "    print(list_test)\n",
    "    \n",
    "if __name__ == '__main__':\n",
    "    main()"
   ]
  },
  {
   "cell_type": "code",
   "execution_count": null,
   "metadata": {},
   "outputs": [],
   "source": []
  }
 ],
 "metadata": {
  "kernelspec": {
   "display_name": "Python 3",
   "language": "python",
   "name": "python3"
  }
 },
 "nbformat": 4,
 "nbformat_minor": 2
}
